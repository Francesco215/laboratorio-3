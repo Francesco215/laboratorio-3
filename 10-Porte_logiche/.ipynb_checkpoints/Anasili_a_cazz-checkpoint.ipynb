{
 "cells": [
  {
   "cell_type": "code",
   "execution_count": 1,
   "metadata": {},
   "outputs": [],
   "source": [
    "import menzalib as mz\n",
    "import numpy as np\n",
    "import pylab as pl"
   ]
  },
  {
   "cell_type": "markdown",
   "metadata": {},
   "source": [
    "# dati.txt\n",
    "qua sotto c'è scritto cosa c'è dentro il file dati.txt"
   ]
  },
  {
   "cell_type": "raw",
   "metadata": {},
   "source": [
    "#VIL=0.679\n",
    "#VOH=4.30\n",
    "\n",
    "#VIH=1.54\n",
    "#VOL=0.114\n",
    "\n",
    "#Vin\t Vout\n",
    "0.01\t4.31\n",
    "0.49\t4.31\n",
    "0.99\t4.24\n",
    "1.33\t2.83\n",
    "1.51\t0.97\n",
    "2.03\t0.11\n",
    "2.49\t0.11\n",
    "3.06\t0.11\n",
    "3.46\t0.11\n",
    "3.99\t0.11\n",
    "4.43\t0.11\n",
    "4.67\t0.11\n",
    "\n",
    "\n",
    "#Punto 3\n",
    "#R1=326"
   ]
  },
  {
   "cell_type": "code",
   "execution_count": 15,
   "metadata": {},
   "outputs": [
    {
     "data": {
      "image/png": "[encoded data removed]",
      "text/plain": [
       "<matplotlib.figure.Figure at 0x10c362ef0>"
      ]
     },
     "metadata": {
      "needs_background": "light"
     },
     "output_type": "display_data"
    }
   ],
   "source": [
    "Vin,Vout=np.genfromtxt('dati.txt',unpack='True')\n",
    "\n",
    "VIL=0.679 \n",
    "VOH=4.30\n",
    "\n",
    "VIH=1.54\n",
    "VOL=0.114\n",
    "\n",
    "pl.errorbar(Vin,Vout,xerr=mz.dVdig(Vin),yerr=mz.dVdig(Vout),fmt='.')\n",
    "pl.plot(VIH,VOL,'o')\n",
    "pl.plot(VIL,VOH,'o')\n",
    "pl.show()"
   ]
  },
  {
   "cell_type": "code",
   "execution_count": 16,
   "metadata": {},
   "outputs": [
    {
     "name": "stdout",
     "output_type": "stream",
     "text": [
      "0.861 4.186\n"
     ]
    }
   ],
   "source": [
    "#barra di incertezza\n",
    "print(VIH-VIL,VOH-VOL)"
   ]
  },
  {
   "cell_type": "code",
   "execution_count": 17,
   "metadata": {},
   "outputs": [],
   "source": [
    "tPHL=26.2e-9#misurando quando fa 1.3V\n",
    "tPLH=13.0e-9 #misurando quando fa 2.5V\n",
    "\n",
    "tPHL=6.4e-9#misurando quando il NOT gate si accorge che il segnale cambia\n",
    "tPLH=5.63-9\n",
    "\n"
   ]
  },
  {
   "cell_type": "code",
   "execution_count": null,
   "metadata": {},
   "outputs": [],
   "source": []
  }
 ],
 "metadata": {
  "kernelspec": {
   "display_name": "Python 3",
   "language": "python",
   "name": "python3"
  },
  "language_info": {
   "codemirror_mode": {
    "name": "ipython",
    "version": 3
   },
   "file_extension": ".py",
   "mimetype": "text/x-python",
   "name": "python",
   "nbconvert_exporter": "python",
   "pygments_lexer": "ipython3",
   "version": "3.5.3"
  }
 },
 "nbformat": 4,
 "nbformat_minor": 2
}
