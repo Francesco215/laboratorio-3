{
 "cells": [
  {
   "cell_type": "code",
   "execution_count": 8,
   "metadata": {},
   "outputs": [],
   "source": [
    "import menzalib as mz\n",
    "import numpy as np\n",
    "import pylab as pl\n",
    "\n",
    "%matplotlib qt"
   ]
  },
  {
   "cell_type": "markdown",
   "metadata": {},
   "source": [
    "# dati.txt\n",
    "qua sotto c'è scritto cosa c'è dentro il file dati.txt"
   ]
  },
  {
   "cell_type": "raw",
   "metadata": {},
   "source": [
    "#VIL=0.679\n",
    "#VOH=4.30\n",
    "\n",
    "#VIH=1.54\n",
    "#VOL=0.114\n",
    "\n",
    "#Vin\t Vout\n",
    "0.01\t4.31\n",
    "0.49\t4.31\n",
    "0.99\t4.24\n",
    "1.33\t2.83\n",
    "1.51\t0.97\n",
    "2.03\t0.11\n",
    "2.49\t0.11\n",
    "3.06\t0.11\n",
    "3.46\t0.11\n",
    "3.99\t0.11\n",
    "4.43\t0.11\n",
    "4.67\t0.11\n",
    "\n",
    "\n",
    "#Punto 3\n",
    "#R1=326"
   ]
  },
  {
   "cell_type": "code",
   "execution_count": 10,
   "metadata": {},
   "outputs": [
    {
     "name": "stdout",
     "output_type": "stream",
     "text": [
      "\n",
      "\n",
      "Copia tutto quello che c'è tra le linee\n",
      "--------------------------\n",
      "\\begin{tabular}{cc}\n",
      "\\hline\n",
      "\t% qua ci va il titolo della tabella (ricorda di mettere \\\\ alla fine) %\n",
      " \\hline\n",
      "\t$(1.0\\pm0.01)\\times 10^{-2}$ & $4.31\\pm0.02$ \\\\\n",
      "\t$0.49\\pm0.003$ & $4.31\\pm0.02$ \\\\\n",
      "\t$0.99\\pm0.005$ & $4.24\\pm0.02$ \\\\\n",
      "\t$1.33\\pm0.007$ & $2.83\\pm0.02$ \\\\\n",
      "\t$1.51\\pm0.008$ & $0.97\\pm0.005$ \\\\\n",
      "\t$2.03\\pm0.01$ & $0.11\\pm0.0006$ \\\\\n",
      "\t$2.49\\pm0.02$ & $0.11\\pm0.0006$ \\\\\n",
      "\t$3.06\\pm0.02$ & $0.11\\pm0.0006$ \\\\\n",
      "\t$3.46\\pm0.02$ & $0.11\\pm0.0006$ \\\\\n",
      "\t$3.99\\pm0.02$ & $0.11\\pm0.0006$ \\\\\n",
      "\t$4.43\\pm0.02$ & $0.11\\pm0.0006$ \\\\\n",
      "\t$4.67\\pm0.03$ & $0.11\\pm0.0006$ \\\\\n",
      "\\hline\n",
      "\\end{tabular}\n",
      "--------------------------\n",
      "\n",
      "\n",
      "None\n"
     ]
    }
   ],
   "source": [
    "Vin,Vout=np.genfromtxt('dati.txt',unpack='True')\n",
    "\n",
    "VIL=0.679 \n",
    "VOH=4.30\n",
    "\n",
    "VIH=1.54\n",
    "VOL=0.114\n",
    "\n",
    "A = np.array([mz.ne_tex(Vin, mz.dVdig(Vin)), mz.ne_tex(Vout, mz.dVdig(Vout))])\n",
    "print(mz.mat_tex(A))\n",
    "\n",
    "pl.errorbar(Vin,Vout,xerr=mz.dVdig(Vin),yerr=mz.dVdig(Vout),fmt='.')\n",
    "pl.plot(VIH,VOL,'o')\n",
    "pl.plot(VIL,VOH,'o')\n",
    "pl.show()"
   ]
  },
  {
   "cell_type": "code",
   "execution_count": 16,
   "metadata": {},
   "outputs": [
    {
     "name": "stdout",
     "output_type": "stream",
     "text": [
      "0.861 4.186\n"
     ]
    }
   ],
   "source": [
    "#barra di incertezza\n",
    "print(VIH-VIL,VOH-VOL)"
   ]
  },
  {
   "cell_type": "code",
   "execution_count": 17,
   "metadata": {},
   "outputs": [],
   "source": [
    "tPHL=26.2e-9#misurando quando fa 1.3V\n",
    "tPLH=13.0e-9 #misurando quando fa 2.5V\n",
    "\n",
    "tPHL=6.4e-9#misurando quando il NOT gate si accorge che il segnale cambia\n",
    "tPLH=5.63-9\n",
    "\n"
   ]
  },
  {
   "cell_type": "code",
   "execution_count": null,
   "metadata": {},
   "outputs": [],
   "source": []
  }
 ],
 "metadata": {
  "kernelspec": {
   "display_name": "Python 3",
   "language": "python",
   "name": "python3"
  },
  "language_info": {
   "codemirror_mode": {
    "name": "ipython",
    "version": 3
   },
   "file_extension": ".py",
   "mimetype": "text/x-python",
   "name": "python",
   "nbconvert_exporter": "python",
   "pygments_lexer": "ipython3",
   "version": "3.7.1"
  }
 },
 "nbformat": 4,
 "nbformat_minor": 2
}
