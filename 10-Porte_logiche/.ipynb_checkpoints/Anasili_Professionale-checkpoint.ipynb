{
 "cells": [
  {
   "cell_type": "code",
   "execution_count": 2,
   "metadata": {},
   "outputs": [],
   "source": [
    "import menzalib as mz\n",
    "import numpy as np\n",
    "import pylab as pl\n",
    "\n",
    "%matplotlib qt"
   ]
  },
  {
   "cell_type": "markdown",
   "metadata": {},
   "source": [
    "# dati.txt\n",
    "qua sotto c'è scritto cosa c'è dentro il file dati_lorenzo.txt"
   ]
  },
  {
   "cell_type": "raw",
   "metadata": {},
   "source": [
    "#Vin\tVout\n",
    "4.64\t0.134\n",
    "4.24\t0.134\n",
    "3.20\t0.134\n",
    "2.48\t0.134\n",
    "1.84\t0.134\n",
    "1.26\t0.134\n",
    "1.16\t0.134 #VIH VOL \n",
    "1.06\t2.52\n",
    "1.04\t2\n",
    "0.742\t4.08  #VIL VOH\n",
    "0.344\t4.16\n",
    "0.144\t4.16"
   ]
  },
  {
   "cell_type": "code",
   "execution_count": 37,
   "metadata": {},
   "outputs": [
    {
     "data": {
      "image/png": "[encoded data removed]",
      "text/plain": [
       "<matplotlib.figure.Figure at 0x11fab29b0>"
      ]
     },
     "metadata": {
      "needs_background": "light"
     },
     "output_type": "display_data"
    }
   ],
   "source": [
    "Vin,Vout=np.genfromtxt('dati_lorenzo.txt',unpack='True')\n",
    "\n",
    "\n",
    "VIH=Vin[6] \n",
    "VOL=Vout[6]\n",
    "\n",
    "VIL=Vin[9]\n",
    "VOH=Vout[9]\n",
    "\n",
    "A = np.array([mz.ne_tex(Vin, mz.dVosc(Vin)), mz.ne_tex(Vout, mz.dVosc(Vout))])\n",
    "mz.mat_tex(A,titolo='$V_{in}[V]$ & $V_{out}[V]$',file='relazione/tab1.tex')\n",
    "\n",
    "nome=['VOH','VOL','VIH','VIL']\n",
    "V=[VOH,VOL,VIH,VIL]\n",
    "dV=mz.dVosc(V)\n",
    "datasheetV=[3.4,0.2,2,0.8]\n",
    "\n",
    "mz.mat_tex([nome,mz.ne_tex(V,dV),datasheetV],titolo='Nome & Voltaggi misurati $[V]$ & Voltaggi datasheet $[V]$',\n",
    "          file='relazione/tab2.tex')\n",
    "\n",
    "pl.errorbar(Vin,Vout,xerr=mz.dVosc(Vin),yerr=mz.dVosc(Vout),fmt='.') \n",
    "pl.plot(VIH,VOL,'o')\n",
    "pl.plot(VIL,VOH,'o')\n",
    "pl.xlabel('Vin')\n",
    "pl.ylabel('Vout')\n",
    "pl.show()"
   ]
  },
  {
   "cell_type": "markdown",
   "metadata": {},
   "source": [
    "link datasheet dell'integrato NOT: http://www.ti.com/lit/ds/symlink/sn74ls04.pdf\n",
    "\n",
    "secondo il datasheet VIH=2V, VIL=0.8V, VOH=3.4V, VOL=0.2V con VCC=5V\n"
   ]
  },
  {
   "cell_type": "code",
   "execution_count": 38,
   "metadata": {},
   "outputs": [
    {
     "name": "stdout",
     "output_type": "stream",
     "text": [
      "barra d'incertezza d'input misurata $0.418\\pm0.007$\n",
      "barra d'incertezza d'output misurata $3.95\\pm0.02$\n",
      "barra d'incertezza d'input datasheet 1.2\n",
      "barra d'incertezza d'output datasheet 3.2\n"
     ]
    }
   ],
   "source": [
    "#barra di incertezza\n",
    "print('barra d\\'incertezza d\\'input misurata',mz.ne_tex(VIH-VIL,np.sqrt(mz.dVdig(VIH)**2+mz.dVdig(VIL)**2)))\n",
    "print('barra d\\'incertezza d\\'output misurata',mz.ne_tex(VOH-VOL,np.sqrt(mz.dVdig(VOH)**2+mz.dVdig(VOL)**2)))\n",
    "print('barra d\\'incertezza d\\'input datasheet',1.2)\n",
    "print('barra d\\'incertezza d\\'output datasheet',3.2)"
   ]
  },
  {
   "cell_type": "code",
   "execution_count": 17,
   "metadata": {},
   "outputs": [
    {
     "data": {
      "text/plain": [
       "array(0.00056886)"
      ]
     },
     "execution_count": 17,
     "metadata": {},
     "output_type": "execute_result"
    }
   ],
   "source": [
    "tPHL=26.2e-9#misurando quando fa 1.3V\n",
    "tPLH=13.0e-9 #misurando quando fa 2.5V\n",
    "\n",
    "tPHL=6.4e-9#misurando quando il NOT gate si accorge che il segnale cambia\n",
    "tPLH=5.63-9\n",
    "\n",
    "mz.dVdig(0.112)"
   ]
  },
  {
   "cell_type": "markdown",
   "metadata": {},
   "source": [
    "# PUNTO 2\n",
    "i dati per il punto 2 sono:\n",
    "R=3.31hOhm\n",
    "f=1kHz\n",
    "V=5.04V\n",
    "tplh=7.2 ns\n",
    "tphl=55 ns"
   ]
  },
  {
   "cell_type": "markdown",
   "metadata": {},
   "source": [
    "roba vecchia fatta con i dati vecchi"
   ]
  },
  {
   "cell_type": "raw",
   "metadata": {},
   "source": [
    "#VIL=0.679\n",
    "#VOH=4.30\n",
    "\n",
    "#VIH=1.54\n",
    "#VOL=0.114\n",
    "\n",
    "#Vin\t Vout\n",
    "0.01\t4.31\n",
    "0.49\t4.31\n",
    "0.99\t4.24\n",
    "1.33\t2.83\n",
    "1.51\t0.97\n",
    "2.03\t0.11\n",
    "2.49\t0.11\n",
    "3.06\t0.11\n",
    "3.46\t0.11\n",
    "3.99\t0.11\n",
    "4.43\t0.11\n",
    "4.67\t0.11\n",
    "\n",
    "\n",
    "#Punto 3\n",
    "#R1=326"
   ]
  },
  {
   "cell_type": "code",
   "execution_count": 21,
   "metadata": {},
   "outputs": [
    {
     "name": "stdout",
     "output_type": "stream",
     "text": [
      "\n",
      "\n",
      "Copia tutto quello che c'è tra le linee\n",
      "--------------------------\n",
      "\\begin{tabular}{cc}\n",
      "\\hline\n",
      "\t% qua ci va il titolo della tabella (ricorda di mettere \\\\ alla fine) %\n",
      " \\hline\n",
      "\t$(1.0\\pm0.01)\\times 10^{-2}$ & $4.31\\pm0.02$ \\\\\n",
      "\t$0.49\\pm0.003$ & $4.31\\pm0.02$ \\\\\n",
      "\t$0.99\\pm0.005$ & $4.24\\pm0.02$ \\\\\n",
      "\t$1.33\\pm0.007$ & $2.83\\pm0.02$ \\\\\n",
      "\t$1.51\\pm0.008$ & $0.97\\pm0.005$ \\\\\n",
      "\t$2.03\\pm0.01$ & $0.11\\pm0.0006$ \\\\\n",
      "\t$2.49\\pm0.02$ & $0.11\\pm0.0006$ \\\\\n",
      "\t$3.06\\pm0.02$ & $0.11\\pm0.0006$ \\\\\n",
      "\t$3.46\\pm0.02$ & $0.11\\pm0.0006$ \\\\\n",
      "\t$3.99\\pm0.02$ & $0.11\\pm0.0006$ \\\\\n",
      "\t$4.43\\pm0.02$ & $0.11\\pm0.0006$ \\\\\n",
      "\t$4.67\\pm0.03$ & $0.11\\pm0.0006$ \\\\\n",
      "\\hline\n",
      "\\end{tabular}\n",
      "--------------------------\n",
      "\n",
      "\n",
      "\n",
      "\n",
      "Copia tutto quello che c'è tra le linee\n",
      "--------------------------\n",
      "\\begin{tabular}{ccc}\n",
      "\\hline\n",
      "\tNome & Voltaggi misurati $[V]$ & Voltaggi datasheet $[V]$\\\\ \n",
      "\\hline\n",
      "\tVOH & $4.3\\pm0.02$ & 3.4 \\\\\n",
      "\tVOL & $0.114\\pm0.0006$ & 0.2 \\\\\n",
      "\tVIH & $1.54\\pm0.008$ & 2 \\\\\n",
      "\tVIL & $0.679\\pm0.004$ & 0.8 \\\\\n",
      "\\hline\n",
      "\\end{tabular}\n",
      "--------------------------\n",
      "\n",
      "\n"
     ]
    },
    {
     "data": {
      "image/png": "[encoded data removed]",
      "text/plain": [
       "<matplotlib.figure.Figure at 0x11a0286d8>"
      ]
     },
     "metadata": {
      "needs_background": "light"
     },
     "output_type": "display_data"
    }
   ],
   "source": [
    "Vin,Vout=np.genfromtxt('dati.txt',unpack='True')\n",
    "\n",
    "VIL=0.679 \n",
    "VOH=4.30\n",
    "\n",
    "VIH=1.54\n",
    "VOL=0.114\n",
    "\n",
    "A = np.array([mz.ne_tex(Vin, mz.dVdig(Vin)), mz.ne_tex(Vout, mz.dVdig(Vout))])\n",
    "mz.mat_tex(A,titolo='$V_{in}[V]$ & $V_{out}[V]$')\n",
    "\n",
    "nome=['VOH','VOL','VIH','VIL']\n",
    "V=[VOH,VOL,VIH,VIL]\n",
    "dV=mz.dVdig(V)\n",
    "datasheetV=[3.4,0.2,2,0.8]\n",
    "\n",
    "mz.mat_tex([nome,mz.ne_tex(V,dV),datasheetV],titolo='Nome & Voltaggi misurati $[V]$ & Voltaggi datasheet $[V]$')\n",
    "      \n",
    "pl.errorbar(Vin,Vout,xerr=mz.dVdig(Vin),yerr=mz.dVdig(Vout),fmt='.')\n",
    "pl.plot(VIH,VOL,'o')\n",
    "pl.plot(VIL,VOH,'o')\n",
    "pl.xlabel('Vin')\n",
    "pl.ylabel('Vout')\n",
    "pl.show()"
   ]
  }
 ],
 "metadata": {
  "kernelspec": {
   "display_name": "Python 3",
   "language": "python",
   "name": "python3"
  },
  "language_info": {
   "codemirror_mode": {
    "name": "ipython",
    "version": 3
   },
   "file_extension": ".py",
   "mimetype": "text/x-python",
   "name": "python",
   "nbconvert_exporter": "python",
   "pygments_lexer": "ipython3",
   "version": "3.5.3"
  }
 },
 "nbformat": 4,
 "nbformat_minor": 2
}
