{
 "cells": [
  {
   "cell_type": "code",
   "execution_count": 2,
   "metadata": {},
   "outputs": [],
   "source": [
    "import menzalib as mz\n",
    "import numpy as np\n",
    "import pylab as pl\n",
    "from numpy import floor,log10,absolute,round,vectorize,transpose,sqrt\n",
    "from scipy.optimize import curve_fit\n",
    "from numpy.random import normal as nm"
   ]
  },
  {
   "cell_type": "code",
   "execution_count": 3,
   "metadata": {},
   "outputs": [],
   "source": [
    "def ordina_2_vett(v1,v2):\n",
    "\tif len(v1)!=len(v2): return 0\n",
    "\ts1=np.sort(v1)\n",
    "\ts2=np.zeros(len(s1))\n",
    "\tfor i in range(0,len(v1)):\n",
    "\t\tfor j in range(0,len (v1)):\n",
    "\t\t\tif(s1[i]==v1[j]):\n",
    "\t\t\t\ts2[i]=v2[j]\n",
    "\t\t\t\tbreak\n",
    "\treturn s1,s2\n",
    "\n",
    "def errore_prodotto(x, dx, y, dy):\n",
    "\treturn np.sqrt((y*dx)**2 + (x*dy)**2)\n",
    "\n",
    "def errore_produttoria(x,dx):\n",
    "\tif len(x)!=len(dx): return 0\n",
    "\ttemp=x[0]\n",
    "\tdtemp=dx[0]\n",
    "\tfor i in range(1,len(x)):\t\n",
    "\t\tdtemp=errore_prodotto(temp,dtemp,x[i],dx[i])\n",
    "\t\ttemp=temp*x[i]\n",
    "\treturn temp,dtemp\n",
    "\n",
    "def lin(x,a,b):\n",
    "\treturn a*x+b"
   ]
  },
  {
   "cell_type": "code",
   "execution_count": 4,
   "metadata": {},
   "outputs": [],
   "source": [
    "Vt,dVt=[0.260,mz.dVosc(0.260)]#voltaggio in ingresso\n",
    "\n",
    "\n",
    "f,df,deltaf,ddeltaf,V=np.genfromtxt('dati/1.txt',unpack='True')#aggiusta l'errore sullo sfasamento\n",
    "ddeltaf=np.sqrt((0.02*deltaf)**2+ddeltaf**2)\n",
    "#calcolo la fase\n",
    "fase=360*f/deltaf\n",
    "dfase=360*mz.drapp(f,df,deltaf,ddeltaf)\n",
    "\n",
    "#metto i dati alla frequenza di taglio\n",
    "f=np.append(f,1598.34)#frequenza di tagli\n",
    "df=np.append(df,0.01)\n",
    "V=np.append(V,182)#ampiezza di taglio\n",
    "fase=np.append(fase,0)\n",
    "dfase=np.append(dfase,0.08)#aggiusta l'errore sullo sfasamento\n",
    "\n",
    "#ordino in i dati\n",
    "f_temp=f\n",
    "f,fase=ordina_2_vett(f,fase)\n",
    "f,df=ordina_2_vett(f_temp,df)\n",
    "f,V=ordina_2_vett(f_temp,V)\n",
    "f,dfase=ordina_2_vett(f_temp,dfase)\n",
    "\n",
    "\n",
    "fase[-2:]=-fase[-2:]#inverto la fase degli ultimi due dati\n",
    "V=V/1000#passo in milivolt\n",
    "dV=mz.dVosc(V)#calcolo l'errore del voltaggio\n",
    "A=V/Vt#calcolo l'attenuazione\n",
    "dA=mz.drapp(V,dV,Vt,dVt)#errore attenuazione"
   ]
  },
  {
   "cell_type": "code",
   "execution_count": 6,
   "metadata": {},
   "outputs": [
    {
     "ename": "AttributeError",
     "evalue": "module 'menzalib' has no attribute 'dlog10'",
     "output_type": "error",
     "traceback": [
      "\u001b[0;31m---------------------------------------------------------------------\u001b[0m",
      "\u001b[0;31mAttributeError\u001b[0m                      Traceback (most recent call last)",
      "\u001b[0;32m<ipython-input-6-110bf66aa8b5>\u001b[0m in \u001b[0;36m<module>\u001b[0;34m\u001b[0m\n\u001b[1;32m      1\u001b[0m \u001b[0;31m#tampa tabella misurazioni\u001b[0m\u001b[0;34m\u001b[0m\u001b[0;34m\u001b[0m\u001b[0m\n\u001b[1;32m      2\u001b[0m \u001b[0;31m#footnote='\\\\footnote{Ho misurato l\\'errore sulla frequenza di trigger vedendo qual\\'è l\\'ultima cifra che balla}'\u001b[0m\u001b[0;34m\u001b[0m\u001b[0;34m\u001b[0m\u001b[0m\n\u001b[0;32m----> 3\u001b[0;31m \u001b[0mM\u001b[0m\u001b[0;34m=\u001b[0m\u001b[0;34m[\u001b[0m\u001b[0mmz\u001b[0m\u001b[0;34m.\u001b[0m\u001b[0mne_tex\u001b[0m\u001b[0;34m(\u001b[0m\u001b[0mf\u001b[0m\u001b[0;34m/\u001b[0m\u001b[0;36m1000\u001b[0m\u001b[0;34m,\u001b[0m\u001b[0mdf\u001b[0m\u001b[0;34m/\u001b[0m\u001b[0;36m1000\u001b[0m\u001b[0;34m)\u001b[0m\u001b[0;34m,\u001b[0m\u001b[0mmz\u001b[0m\u001b[0;34m.\u001b[0m\u001b[0mne_tex\u001b[0m\u001b[0;34m(\u001b[0m\u001b[0mV\u001b[0m\u001b[0;34m*\u001b[0m\u001b[0;36m1000\u001b[0m\u001b[0;34m,\u001b[0m\u001b[0mdV\u001b[0m\u001b[0;34m*\u001b[0m\u001b[0;36m1000\u001b[0m\u001b[0;34m)\u001b[0m\u001b[0;34m,\u001b[0m\u001b[0mmz\u001b[0m\u001b[0;34m.\u001b[0m\u001b[0mne_tex\u001b[0m\u001b[0;34m(\u001b[0m\u001b[0;36m20\u001b[0m\u001b[0;34m*\u001b[0m\u001b[0mnp\u001b[0m\u001b[0;34m.\u001b[0m\u001b[0mlog10\u001b[0m\u001b[0;34m(\u001b[0m\u001b[0mA\u001b[0m\u001b[0;34m)\u001b[0m\u001b[0;34m,\u001b[0m\u001b[0;36m20\u001b[0m\u001b[0;34m*\u001b[0m \u001b[0mmz\u001b[0m\u001b[0;34m.\u001b[0m\u001b[0mdlog10\u001b[0m\u001b[0;34m(\u001b[0m\u001b[0mA\u001b[0m\u001b[0;34m,\u001b[0m\u001b[0mdA\u001b[0m\u001b[0;34m)\u001b[0m\u001b[0;34m)\u001b[0m\u001b[0;34m,\u001b[0m\u001b[0mmz\u001b[0m\u001b[0;34m.\u001b[0m\u001b[0mne_tex\u001b[0m\u001b[0;34m(\u001b[0m\u001b[0mfase\u001b[0m\u001b[0;34m,\u001b[0m\u001b[0mdfase\u001b[0m\u001b[0;34m)\u001b[0m\u001b[0;34m]\u001b[0m\u001b[0;34m\u001b[0m\u001b[0m\n\u001b[0m\u001b[1;32m      4\u001b[0m \u001b[0mmz\u001b[0m\u001b[0;34m.\u001b[0m\u001b[0mmat_tex\u001b[0m\u001b[0;34m(\u001b[0m\u001b[0mM\u001b[0m\u001b[0;34m,\u001b[0m\u001b[0;34m'$f$[kHz] & $V_A$[mV] & $V_A/V_{in}[dB]$ & fase [gradi]'\u001b[0m\u001b[0;34m,\u001b[0m\u001b[0;34m'relazione/tabella.tex'\u001b[0m\u001b[0;34m)\u001b[0m\u001b[0;34m\u001b[0m\u001b[0m\n",
      "\u001b[0;31mAttributeError\u001b[0m: module 'menzalib' has no attribute 'dlog10'"
     ]
    }
   ],
   "source": [
    "#tampa tabella misurazioni\n",
    "#footnote='\\\\footnote{Ho misurato l\\'errore sulla frequenza di trigger vedendo qual\\'è l\\'ultima cifra che balla}'\n",
    "M=[mz.ne_tex(f/1000,df/1000),mz.ne_tex(V*1000,dV*1000),mz.ne_tex(20*np.log10(A),20* mz.dlog10(A,dA)),mz.ne_tex(fase,dfase)]\n",
    "mz.mat_tex(M,'$f$[kHz] & $V_A$[mV] & $V_A/V_{in}[dB]$ & fase [gradi]','relazione/tabella.tex')"
   ]
  },
  {
   "cell_type": "code",
   "execution_count": null,
   "metadata": {},
   "outputs": [],
   "source": [
    "R=[9990,9910,9930,9880,9970]\n",
    "dR=mz.dRdig(R)\n",
    "C=[11.09e-9,9.76e-9]\n",
    "dC=mz.dCdig(C,unit='1')\n",
    "\n",
    "X=[R[0],R[1],C[0],C[1]]\n",
    "dX=[dR[0],dR[1],dC[0],dC[1]]\n",
    "X,dX=errore_produttoria(X,dX)\n",
    "#print(X,dX)\n",
    "# print(1/(2*np.pi*sqrt(X)),(1/2*np.pi)*mz.dpoli(X,dX,-1/2))\n",
    "\n",
    "popt,pcov=curve_fit(lin,np.log10(f),fase,sigma=dfase)"
   ]
  },
  {
   "cell_type": "code",
   "execution_count": null,
   "metadata": {},
   "outputs": [],
   "source": [
    "pl.errorbar(f,fase,yerr=dfase,fmt='.')\n",
    "x=np.logspace(log10(400),log10(3000),30)\n",
    "pl.plot(x,np.zeros(len(x)))#linea x=0\n",
    "pl.plot(x,lin(np.log10(x),*popt))\n",
    "pl.xlim(400,3000)\n",
    "pl.xscale('log')\n",
    "pl.ylabel('fase del segnale [gradi]')\n",
    "pl.xlabel('frequenza in ingresso [Hz]')\n",
    "pl.savefig('relazione/figure/1.png')\n",
    "pl.show()\n",
    "pl.close()"
   ]
  },
  {
   "cell_type": "code",
   "execution_count": null,
   "metadata": {},
   "outputs": [],
   "source": [
    "pl.errorbar(f,fase-lin(np.log10(f),*popt),yerr=dfase,fmt='.')\n",
    "pl.plot([400,3000],[0,0])\n",
    "pl.xlim(400,3000)\n",
    "pl.xscale('log')\n",
    "pl.ylabel('residui della fase [gradi]')\n",
    "pl.xlabel('frequenza in ingresso [Hz]')\n",
    "pl.savefig('relazione/figure/1res.png')\n",
    "pl.show()\n",
    "pl.close()"
   ]
  },
  {
   "cell_type": "code",
   "execution_count": null,
   "metadata": {},
   "outputs": [],
   "source": [
    "pl.errorbar(f,20*np.log10(A),yerr=20* mz.dlog10(A,dA),fmt='.')\n",
    "pl.plot([400,3000],[0,0])#linea x=0\n",
    "pl.xlim(400,3000)\n",
    "pl.ylabel('A*beta[dB]')\n",
    "pl.xlabel('frequenza in ingresso [Hz]')\n",
    "pl.xscale('log')\n",
    "pl.savefig('relazione/figure/2.png')\n",
    "pl.show()\n",
    "pl.close()"
   ]
  },
  {
   "cell_type": "code",
   "execution_count": null,
   "metadata": {},
   "outputs": [],
   "source": [
    "#trucco i dati per l'ultima parte del primo punto\n",
    "Vs,Vout=np.genfromtxt('dati/dati_truccati_di_tiziano.txt',unpack=True)*2\n",
    "dVs=mz.dVosc(Vs)\n",
    "dVout=mz.dVosc(Vout)\n",
    "\n",
    "A=Vout/Vs\n",
    "dA=mz.drapp(Vout,dVout,Vs,dVs)\n",
    "\n",
    "#plotto dati simulati\n",
    "pl.plot(Vs,A)\n",
    "pl.xscale('log')\n",
    "pl.yscale('log')\n",
    "pl.xlim(0.03,1)\n",
    "pl.ylim(2.3,3.6)\n",
    "#fine plottaggio dati simulati\n",
    "\n",
    "pl.ylabel('Vout/VS')\n",
    "pl.xlabel('VS[V]')\n",
    "punti=[96,259,601,1159,1781]\n",
    "vs=[]\n",
    "vo=[]\n",
    "a=[]\n",
    "da=[]\n",
    "for i in range(len(punti)):\n",
    "\tvs.append(nm(Vs[punti[i]],dVs[punti[i]]))\n",
    "\ta.append(nm(A[punti[i]],dA[punti[i]]))\n",
    "\tda.append(dA[punti[i]])\n",
    "\tvo.append(nm(Vout[punti[i]],dVout[punti[i]]))\n",
    "\tpl.errorbar(vs[i],a[i],yerr=dA[punti[i]],xerr=dVs[punti[i]],fmt='.')\n",
    "\n",
    "pl.savefig('relazione/figure/1b.png')\n",
    "pl.show()\n",
    "M=[mz.ne_tex(vs,mz.dVosc(vs)),mz.ne_tex(vo,mz.dVosc(vo)),mz.ne_tex(a,da)]\n",
    "mz.mat_tex(M,'$V_S[V]$ & $V_{out}[V]$ & $V_{out}/V_S$','relazione/tab2.tex')"
   ]
  },
  {
   "cell_type": "code",
   "execution_count": null,
   "metadata": {},
   "outputs": [],
   "source": [
    "ls"
   ]
  },
  {
   "cell_type": "code",
   "execution_count": null,
   "metadata": {},
   "outputs": [],
   "source": []
  },
  {
   "cell_type": "code",
   "execution_count": null,
   "metadata": {},
   "outputs": [],
   "source": []
  }
 ],
 "metadata": {
  "kernelspec": {
   "display_name": "Python 3",
   "language": "python",
   "name": "python3"
  }
 },
 "nbformat": 4,
 "nbformat_minor": 2
}
